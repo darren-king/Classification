{
 "cells": [
  {
   "cell_type": "markdown",
   "metadata": {
    "collapsed": true,
    "pycharm": {
     "name": "#%% md\n"
    }
   },
   "source": [
    "Classification - Comparison of Binary Classifiers"
   ]
  },
  {
   "cell_type": "markdown",
   "source": [
    "Name: Darren King\n",
    "Student_ID: 17145031"
   ],
   "metadata": {
    "collapsed": false,
    "pycharm": {
     "name": "#%% md\n"
    }
   }
  },
  {
   "cell_type": "code",
   "execution_count": 21,
   "outputs": [],
   "source": [
    "import pandas as pd\n",
    "import numpy as np\n",
    "import matplotlib.pyplot as plt"
   ],
   "metadata": {
    "collapsed": false,
    "pycharm": {
     "name": "#%%\n"
    }
   }
  },
  {
   "cell_type": "code",
   "execution_count": 21,
   "outputs": [],
   "source": [],
   "metadata": {
    "collapsed": false,
    "pycharm": {
     "name": "#%%\n"
    }
   }
  },
  {
   "cell_type": "markdown",
   "source": [
    "## Exploratory Data Analysis"
   ],
   "metadata": {
    "collapsed": false,
    "pycharm": {
     "name": "#%% md\n"
    }
   }
  },
  {
   "cell_type": "code",
   "execution_count": 22,
   "outputs": [],
   "source": [
    "df = pd.read_csv(\"seeds.csv\")"
   ],
   "metadata": {
    "collapsed": false,
    "pycharm": {
     "name": "#%%\n"
    }
   }
  },
  {
   "cell_type": "code",
   "execution_count": 23,
   "outputs": [
    {
     "data": {
      "text/plain": "    area  perimeter  compactness  length of kernel  width of kernel  \\\n0  15.26      14.84       0.8710             5.763            3.312   \n1  14.88      14.57       0.8811             5.554            3.333   \n2  14.29      14.09       0.9050             5.291            3.337   \n3  13.84      13.94       0.8955             5.324            3.379   \n4  16.14      14.99       0.9034             5.658            3.562   \n\n   asymmetry coefficient  length of kernel groove  type  \n0                  2.221                    5.220     1  \n1                  1.018                    4.956     1  \n2                  2.699                    4.825     1  \n3                  2.259                    4.805     1  \n4                  1.355                    5.175     1  ",
      "text/html": "<div>\n<style scoped>\n    .dataframe tbody tr th:only-of-type {\n        vertical-align: middle;\n    }\n\n    .dataframe tbody tr th {\n        vertical-align: top;\n    }\n\n    .dataframe thead th {\n        text-align: right;\n    }\n</style>\n<table border=\"1\" class=\"dataframe\">\n  <thead>\n    <tr style=\"text-align: right;\">\n      <th></th>\n      <th>area</th>\n      <th>perimeter</th>\n      <th>compactness</th>\n      <th>length of kernel</th>\n      <th>width of kernel</th>\n      <th>asymmetry coefficient</th>\n      <th>length of kernel groove</th>\n      <th>type</th>\n    </tr>\n  </thead>\n  <tbody>\n    <tr>\n      <th>0</th>\n      <td>15.26</td>\n      <td>14.84</td>\n      <td>0.8710</td>\n      <td>5.763</td>\n      <td>3.312</td>\n      <td>2.221</td>\n      <td>5.220</td>\n      <td>1</td>\n    </tr>\n    <tr>\n      <th>1</th>\n      <td>14.88</td>\n      <td>14.57</td>\n      <td>0.8811</td>\n      <td>5.554</td>\n      <td>3.333</td>\n      <td>1.018</td>\n      <td>4.956</td>\n      <td>1</td>\n    </tr>\n    <tr>\n      <th>2</th>\n      <td>14.29</td>\n      <td>14.09</td>\n      <td>0.9050</td>\n      <td>5.291</td>\n      <td>3.337</td>\n      <td>2.699</td>\n      <td>4.825</td>\n      <td>1</td>\n    </tr>\n    <tr>\n      <th>3</th>\n      <td>13.84</td>\n      <td>13.94</td>\n      <td>0.8955</td>\n      <td>5.324</td>\n      <td>3.379</td>\n      <td>2.259</td>\n      <td>4.805</td>\n      <td>1</td>\n    </tr>\n    <tr>\n      <th>4</th>\n      <td>16.14</td>\n      <td>14.99</td>\n      <td>0.9034</td>\n      <td>5.658</td>\n      <td>3.562</td>\n      <td>1.355</td>\n      <td>5.175</td>\n      <td>1</td>\n    </tr>\n  </tbody>\n</table>\n</div>"
     },
     "execution_count": 23,
     "metadata": {},
     "output_type": "execute_result"
    }
   ],
   "source": [
    "df.head()"
   ],
   "metadata": {
    "collapsed": false,
    "pycharm": {
     "name": "#%%\n"
    }
   }
  },
  {
   "cell_type": "markdown",
   "source": [
    "We have 7 predictor or independent variable attributes which lead to a dependent or target for classification, namely one of three different types of wheat: Kama, Rosa, Canadian"
   ],
   "metadata": {
    "collapsed": false,
    "pycharm": {
     "name": "#%% md\n"
    }
   }
  },
  {
   "cell_type": "code",
   "execution_count": 24,
   "outputs": [
    {
     "data": {
      "text/plain": "      area  perimeter  compactness  length of kernel  width of kernel  \\\n205  12.19      13.20       0.8783             5.137            2.981   \n206  11.23      12.88       0.8511             5.140            2.795   \n207  13.20      13.66       0.8883             5.236            3.232   \n208  11.84      13.21       0.8521             5.175            2.836   \n209  12.30      13.34       0.8684             5.243            2.974   \n\n     asymmetry coefficient  length of kernel groove  type  \n205                  3.631                    4.870     3  \n206                  4.325                    5.003     3  \n207                  8.315                    5.056     3  \n208                  3.598                    5.044     3  \n209                  5.637                    5.063     3  ",
      "text/html": "<div>\n<style scoped>\n    .dataframe tbody tr th:only-of-type {\n        vertical-align: middle;\n    }\n\n    .dataframe tbody tr th {\n        vertical-align: top;\n    }\n\n    .dataframe thead th {\n        text-align: right;\n    }\n</style>\n<table border=\"1\" class=\"dataframe\">\n  <thead>\n    <tr style=\"text-align: right;\">\n      <th></th>\n      <th>area</th>\n      <th>perimeter</th>\n      <th>compactness</th>\n      <th>length of kernel</th>\n      <th>width of kernel</th>\n      <th>asymmetry coefficient</th>\n      <th>length of kernel groove</th>\n      <th>type</th>\n    </tr>\n  </thead>\n  <tbody>\n    <tr>\n      <th>205</th>\n      <td>12.19</td>\n      <td>13.20</td>\n      <td>0.8783</td>\n      <td>5.137</td>\n      <td>2.981</td>\n      <td>3.631</td>\n      <td>4.870</td>\n      <td>3</td>\n    </tr>\n    <tr>\n      <th>206</th>\n      <td>11.23</td>\n      <td>12.88</td>\n      <td>0.8511</td>\n      <td>5.140</td>\n      <td>2.795</td>\n      <td>4.325</td>\n      <td>5.003</td>\n      <td>3</td>\n    </tr>\n    <tr>\n      <th>207</th>\n      <td>13.20</td>\n      <td>13.66</td>\n      <td>0.8883</td>\n      <td>5.236</td>\n      <td>3.232</td>\n      <td>8.315</td>\n      <td>5.056</td>\n      <td>3</td>\n    </tr>\n    <tr>\n      <th>208</th>\n      <td>11.84</td>\n      <td>13.21</td>\n      <td>0.8521</td>\n      <td>5.175</td>\n      <td>2.836</td>\n      <td>3.598</td>\n      <td>5.044</td>\n      <td>3</td>\n    </tr>\n    <tr>\n      <th>209</th>\n      <td>12.30</td>\n      <td>13.34</td>\n      <td>0.8684</td>\n      <td>5.243</td>\n      <td>2.974</td>\n      <td>5.637</td>\n      <td>5.063</td>\n      <td>3</td>\n    </tr>\n  </tbody>\n</table>\n</div>"
     },
     "execution_count": 24,
     "metadata": {},
     "output_type": "execute_result"
    }
   ],
   "source": [
    "df.tail()"
   ],
   "metadata": {
    "collapsed": false,
    "pycharm": {
     "name": "#%%\n"
    }
   }
  },
  {
   "cell_type": "code",
   "execution_count": 25,
   "outputs": [
    {
     "data": {
      "text/plain": "1    70\n2    70\n3    70\nName: type, dtype: int64"
     },
     "execution_count": 25,
     "metadata": {},
     "output_type": "execute_result"
    }
   ],
   "source": [
    "df['type'].value_counts()"
   ],
   "metadata": {
    "collapsed": false,
    "pycharm": {
     "name": "#%%\n"
    }
   }
  },
  {
   "cell_type": "code",
   "execution_count": 26,
   "outputs": [
    {
     "data": {
      "text/plain": "area                       0\nperimeter                  0\ncompactness                0\nlength of kernel           0\nwidth of kernel            0\nasymmetry coefficient      0\nlength of kernel groove    0\ntype                       0\ndtype: int64"
     },
     "execution_count": 26,
     "metadata": {},
     "output_type": "execute_result"
    }
   ],
   "source": [
    "# Do we have any missing values?\n",
    "df.isna().sum()"
   ],
   "metadata": {
    "collapsed": false,
    "pycharm": {
     "name": "#%%\n"
    }
   }
  },
  {
   "cell_type": "code",
   "execution_count": 27,
   "outputs": [
    {
     "data": {
      "text/plain": "<Figure size 1440x360 with 1 Axes>",
      "image/png": "[encoded data removed]"
     },
     "metadata": {
      "needs_background": "light"
     },
     "output_type": "display_data"
    }
   ],
   "source": [
    "# Do we have any outliers? An outlier is an observation point that is distant from other observations - a boxplot is one of the most effective means of visualising outliers\n",
    "\n",
    "df.loc[:,'area':'length of kernel groove'].boxplot(figsize=(20,5))\n",
    "plt.show()"
   ],
   "metadata": {
    "collapsed": false,
    "pycharm": {
     "name": "#%%\n"
    }
   }
  },
  {
   "cell_type": "markdown",
   "source": [
    "The asymmetry coefficient has the most notable/prominent outliers"
   ],
   "metadata": {
    "collapsed": false,
    "pycharm": {
     "name": "#%% md\n"
    }
   }
  },
  {
   "cell_type": "code",
   "execution_count": null,
   "outputs": [],
   "source": [],
   "metadata": {
    "collapsed": false,
    "pycharm": {
     "name": "#%%\n"
    }
   }
  },
  {
   "cell_type": "markdown",
   "source": [
    "## Data Preparation"
   ],
   "metadata": {
    "collapsed": false,
    "pycharm": {
     "name": "#%% md\n"
    }
   }
  },
  {
   "cell_type": "code",
   "execution_count": null,
   "outputs": [],
   "source": [],
   "metadata": {
    "collapsed": false,
    "pycharm": {
     "name": "#%%\n"
    }
   }
  },
  {
   "cell_type": "markdown",
   "source": [
    "We need to deal with the outliers in the 'asymmetry coefficient' attribute, and then we need to scale all of our data."
   ],
   "metadata": {
    "collapsed": false,
    "pycharm": {
     "name": "#%% md\n"
    }
   }
  },
  {
   "cell_type": "code",
   "execution_count": null,
   "outputs": [],
   "source": [],
   "metadata": {
    "collapsed": false,
    "pycharm": {
     "name": "#%%\n"
    }
   }
  },
  {
   "cell_type": "code",
   "execution_count": null,
   "outputs": [],
   "source": [],
   "metadata": {
    "collapsed": false,
    "pycharm": {
     "name": "#%%\n"
    }
   }
  },
  {
   "cell_type": "code",
   "execution_count": null,
   "outputs": [],
   "source": [],
   "metadata": {
    "collapsed": false,
    "pycharm": {
     "name": "#%%\n"
    }
   }
  },
  {
   "cell_type": "code",
   "execution_count": null,
   "outputs": [],
   "source": [],
   "metadata": {
    "collapsed": false,
    "pycharm": {
     "name": "#%%\n"
    }
   }
  },
  {
   "cell_type": "code",
   "execution_count": null,
   "outputs": [],
   "source": [],
   "metadata": {
    "collapsed": false,
    "pycharm": {
     "name": "#%%\n"
    }
   }
  },
  {
   "cell_type": "code",
   "execution_count": null,
   "outputs": [],
   "source": [],
   "metadata": {
    "collapsed": false,
    "pycharm": {
     "name": "#%%\n"
    }
   }
  },
  {
   "cell_type": "code",
   "execution_count": null,
   "outputs": [],
   "source": [],
   "metadata": {
    "collapsed": false,
    "pycharm": {
     "name": "#%%\n"
    }
   }
  },
  {
   "cell_type": "code",
   "execution_count": null,
   "outputs": [],
   "source": [],
   "metadata": {
    "collapsed": false,
    "pycharm": {
     "name": "#%%\n"
    }
   }
  },
  {
   "cell_type": "code",
   "execution_count": null,
   "outputs": [],
   "source": [],
   "metadata": {
    "collapsed": false,
    "pycharm": {
     "name": "#%%\n"
    }
   }
  },
  {
   "cell_type": "code",
   "execution_count": null,
   "outputs": [],
   "source": [],
   "metadata": {
    "collapsed": false,
    "pycharm": {
     "name": "#%%\n"
    }
   }
  },
  {
   "cell_type": "code",
   "execution_count": null,
   "outputs": [],
   "source": [],
   "metadata": {
    "collapsed": false,
    "pycharm": {
     "name": "#%%\n"
    }
   }
  },
  {
   "cell_type": "code",
   "execution_count": null,
   "outputs": [],
   "source": [],
   "metadata": {
    "collapsed": false,
    "pycharm": {
     "name": "#%%\n"
    }
   }
  },
  {
   "cell_type": "code",
   "execution_count": null,
   "outputs": [],
   "source": [],
   "metadata": {
    "collapsed": false,
    "pycharm": {
     "name": "#%%\n"
    }
   }
  },
  {
   "cell_type": "code",
   "execution_count": null,
   "outputs": [],
   "source": [],
   "metadata": {
    "collapsed": false,
    "pycharm": {
     "name": "#%%\n"
    }
   }
  },
  {
   "cell_type": "code",
   "execution_count": null,
   "outputs": [],
   "source": [],
   "metadata": {
    "collapsed": false,
    "pycharm": {
     "name": "#%%\n"
    }
   }
  },
  {
   "cell_type": "code",
   "execution_count": null,
   "outputs": [],
   "source": [],
   "metadata": {
    "collapsed": false,
    "pycharm": {
     "name": "#%%\n"
    }
   }
  }
 ],
 "metadata": {
  "kernelspec": {
   "display_name": "Python 3",
   "language": "python",
   "name": "python3"
  },
  "language_info": {
   "codemirror_mode": {
    "name": "ipython",
    "version": 2
   },
   "file_extension": ".py",
   "mimetype": "text/x-python",
   "name": "python",
   "nbconvert_exporter": "python",
   "pygments_lexer": "ipython2",
   "version": "2.7.6"
  }
 },
 "nbformat": 4,
 "nbformat_minor": 0
}