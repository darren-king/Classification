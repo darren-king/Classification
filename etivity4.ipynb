{
 "cells": [
  {
   "cell_type": "markdown",
   "metadata": {
    "collapsed": true,
    "pycharm": {
     "name": "#%% md\n"
    }
   },
   "source": [
    "Classification - Comparison of Binary Classifiers"
   ]
  },
  {
   "cell_type": "markdown",
   "source": [
    "Name: Darren King\n",
    "Student_ID: 17145031"
   ],
   "metadata": {
    "collapsed": false,
    "pycharm": {
     "name": "#%% md\n"
    }
   }
  },
  {
   "cell_type": "code",
   "execution_count": 124,
   "outputs": [],
   "source": [
    "def warn(*args, **kwargs):\n",
    "    pass\n",
    "import warnings\n",
    "warnings.warn = warn\n",
    "\n",
    "import pandas as pd\n",
    "import numpy as np\n",
    "import matplotlib.pyplot as plt\n",
    "import seaborn as sns\n",
    "from sklearn.pipeline import Pipeline, make_pipeline, FeatureUnion\n",
    "from sklearn.compose import ColumnTransformer\n",
    "from sklearn.base import BaseEstimator, TransformerMixin\n",
    "from sklearn.preprocessing import StandardScaler, RobustScaler, FunctionTransformer\n",
    "from sklearn.model_selection import train_test_split, GridSearchCV\n",
    "from imblearn.over_sampling import SMOTE\n",
    "from sklearn import svm\n",
    "from sklearn.ensemble import RandomForestClassifier\n",
    "from sklearn.neural_network import MLPClassifier\n",
    "from sklearn.metrics import roc_curve, auc, accuracy_score, precision_recall_fscore_support\n",
    "import pickle\n",
    "\n",
    "\n",
    "%matplotlib inline\n",
    "sns.set(rc={'figure.figsize': (15,8)}) # Size all seaborn plots from the get go"
   ],
   "metadata": {
    "collapsed": false,
    "pycharm": {
     "name": "#%%\n"
    }
   }
  },
  {
   "cell_type": "code",
   "execution_count": 124,
   "outputs": [],
   "source": [],
   "metadata": {
    "collapsed": false,
    "pycharm": {
     "name": "#%%\n"
    }
   }
  },
  {
   "cell_type": "markdown",
   "source": [
    "## Exploratory Data Analysis"
   ],
   "metadata": {
    "collapsed": false,
    "pycharm": {
     "name": "#%% md\n"
    }
   }
  },
  {
   "cell_type": "code",
   "execution_count": 125,
   "outputs": [],
   "source": [
    "df = pd.read_csv(\"seeds.csv\")"
   ],
   "metadata": {
    "collapsed": false,
    "pycharm": {
     "name": "#%%\n"
    }
   }
  },
  {
   "cell_type": "code",
   "execution_count": 126,
   "outputs": [
    {
     "data": {
      "text/plain": "    area  perimeter  compactness  length of kernel  width of kernel  \\\n0  15.26      14.84       0.8710             5.763            3.312   \n1  14.88      14.57       0.8811             5.554            3.333   \n2  14.29      14.09       0.9050             5.291            3.337   \n3  13.84      13.94       0.8955             5.324            3.379   \n4  16.14      14.99       0.9034             5.658            3.562   \n\n   asymmetry coefficient  length of kernel groove  type  \n0                  2.221                    5.220     1  \n1                  1.018                    4.956     1  \n2                  2.699                    4.825     1  \n3                  2.259                    4.805     1  \n4                  1.355                    5.175     1  ",
      "text/html": "<div>\n<style scoped>\n    .dataframe tbody tr th:only-of-type {\n        vertical-align: middle;\n    }\n\n    .dataframe tbody tr th {\n        vertical-align: top;\n    }\n\n    .dataframe thead th {\n        text-align: right;\n    }\n</style>\n<table border=\"1\" class=\"dataframe\">\n  <thead>\n    <tr style=\"text-align: right;\">\n      <th></th>\n      <th>area</th>\n      <th>perimeter</th>\n      <th>compactness</th>\n      <th>length of kernel</th>\n      <th>width of kernel</th>\n      <th>asymmetry coefficient</th>\n      <th>length of kernel groove</th>\n      <th>type</th>\n    </tr>\n  </thead>\n  <tbody>\n    <tr>\n      <th>0</th>\n      <td>15.26</td>\n      <td>14.84</td>\n      <td>0.8710</td>\n      <td>5.763</td>\n      <td>3.312</td>\n      <td>2.221</td>\n      <td>5.220</td>\n      <td>1</td>\n    </tr>\n    <tr>\n      <th>1</th>\n      <td>14.88</td>\n      <td>14.57</td>\n      <td>0.8811</td>\n      <td>5.554</td>\n      <td>3.333</td>\n      <td>1.018</td>\n      <td>4.956</td>\n      <td>1</td>\n    </tr>\n    <tr>\n      <th>2</th>\n      <td>14.29</td>\n      <td>14.09</td>\n      <td>0.9050</td>\n      <td>5.291</td>\n      <td>3.337</td>\n      <td>2.699</td>\n      <td>4.825</td>\n      <td>1</td>\n    </tr>\n    <tr>\n      <th>3</th>\n      <td>13.84</td>\n      <td>13.94</td>\n      <td>0.8955</td>\n      <td>5.324</td>\n      <td>3.379</td>\n      <td>2.259</td>\n      <td>4.805</td>\n      <td>1</td>\n    </tr>\n    <tr>\n      <th>4</th>\n      <td>16.14</td>\n      <td>14.99</td>\n      <td>0.9034</td>\n      <td>5.658</td>\n      <td>3.562</td>\n      <td>1.355</td>\n      <td>5.175</td>\n      <td>1</td>\n    </tr>\n  </tbody>\n</table>\n</div>"
     },
     "execution_count": 126,
     "metadata": {},
     "output_type": "execute_result"
    }
   ],
   "source": [
    "df.head()"
   ],
   "metadata": {
    "collapsed": false,
    "pycharm": {
     "name": "#%%\n"
    }
   }
  },
  {
   "cell_type": "markdown",
   "source": [
    "We have 7 *predictor* or independent variable attributes which lead to a dependent variable or target for classification, namely one of three different types of wheat: Kama, Rosa, Canadian"
   ],
   "metadata": {
    "collapsed": false,
    "pycharm": {
     "name": "#%% md\n"
    }
   }
  },
  {
   "cell_type": "code",
   "execution_count": 127,
   "outputs": [
    {
     "data": {
      "text/plain": "      area  perimeter  compactness  length of kernel  width of kernel  \\\n205  12.19      13.20       0.8783             5.137            2.981   \n206  11.23      12.88       0.8511             5.140            2.795   \n207  13.20      13.66       0.8883             5.236            3.232   \n208  11.84      13.21       0.8521             5.175            2.836   \n209  12.30      13.34       0.8684             5.243            2.974   \n\n     asymmetry coefficient  length of kernel groove  type  \n205                  3.631                    4.870     3  \n206                  4.325                    5.003     3  \n207                  8.315                    5.056     3  \n208                  3.598                    5.044     3  \n209                  5.637                    5.063     3  ",
      "text/html": "<div>\n<style scoped>\n    .dataframe tbody tr th:only-of-type {\n        vertical-align: middle;\n    }\n\n    .dataframe tbody tr th {\n        vertical-align: top;\n    }\n\n    .dataframe thead th {\n        text-align: right;\n    }\n</style>\n<table border=\"1\" class=\"dataframe\">\n  <thead>\n    <tr style=\"text-align: right;\">\n      <th></th>\n      <th>area</th>\n      <th>perimeter</th>\n      <th>compactness</th>\n      <th>length of kernel</th>\n      <th>width of kernel</th>\n      <th>asymmetry coefficient</th>\n      <th>length of kernel groove</th>\n      <th>type</th>\n    </tr>\n  </thead>\n  <tbody>\n    <tr>\n      <th>205</th>\n      <td>12.19</td>\n      <td>13.20</td>\n      <td>0.8783</td>\n      <td>5.137</td>\n      <td>2.981</td>\n      <td>3.631</td>\n      <td>4.870</td>\n      <td>3</td>\n    </tr>\n    <tr>\n      <th>206</th>\n      <td>11.23</td>\n      <td>12.88</td>\n      <td>0.8511</td>\n      <td>5.140</td>\n      <td>2.795</td>\n      <td>4.325</td>\n      <td>5.003</td>\n      <td>3</td>\n    </tr>\n    <tr>\n      <th>207</th>\n      <td>13.20</td>\n      <td>13.66</td>\n      <td>0.8883</td>\n      <td>5.236</td>\n      <td>3.232</td>\n      <td>8.315</td>\n      <td>5.056</td>\n      <td>3</td>\n    </tr>\n    <tr>\n      <th>208</th>\n      <td>11.84</td>\n      <td>13.21</td>\n      <td>0.8521</td>\n      <td>5.175</td>\n      <td>2.836</td>\n      <td>3.598</td>\n      <td>5.044</td>\n      <td>3</td>\n    </tr>\n    <tr>\n      <th>209</th>\n      <td>12.30</td>\n      <td>13.34</td>\n      <td>0.8684</td>\n      <td>5.243</td>\n      <td>2.974</td>\n      <td>5.637</td>\n      <td>5.063</td>\n      <td>3</td>\n    </tr>\n  </tbody>\n</table>\n</div>"
     },
     "execution_count": 127,
     "metadata": {},
     "output_type": "execute_result"
    }
   ],
   "source": [
    "df.tail()"
   ],
   "metadata": {
    "collapsed": false,
    "pycharm": {
     "name": "#%%\n"
    }
   }
  },
  {
   "cell_type": "code",
   "execution_count": 128,
   "outputs": [
    {
     "data": {
      "text/plain": "1    70\n2    70\n3    70\nName: type, dtype: int64"
     },
     "execution_count": 128,
     "metadata": {},
     "output_type": "execute_result"
    }
   ],
   "source": [
    "df['type'].value_counts()"
   ],
   "metadata": {
    "collapsed": false,
    "pycharm": {
     "name": "#%%\n"
    }
   }
  },
  {
   "cell_type": "code",
   "execution_count": 129,
   "outputs": [
    {
     "data": {
      "text/plain": "area                       0\nperimeter                  0\ncompactness                0\nlength of kernel           0\nwidth of kernel            0\nasymmetry coefficient      0\nlength of kernel groove    0\ntype                       0\ndtype: int64"
     },
     "execution_count": 129,
     "metadata": {},
     "output_type": "execute_result"
    }
   ],
   "source": [
    "# Do we have any missing values?\n",
    "df.isna().sum()"
   ],
   "metadata": {
    "collapsed": false,
    "pycharm": {
     "name": "#%%\n"
    }
   }
  },
  {
   "cell_type": "code",
   "execution_count": 130,
   "outputs": [
    {
     "data": {
      "text/plain": "<Figure size 1440x360 with 1 Axes>",
      "image/png": "[encoded data removed]"
     },
     "metadata": {},
     "output_type": "display_data"
    }
   ],
   "source": [
    "# Do we have any outliers? An outlier is an observation point that is distant from other observations - a boxplot is one of the most effective means of visualising outliers.\n",
    "# If we consider anything outside the highest and lowest values as depicted by boxplot as outliers.... what we define as outliers is somewhat subjective; we could argue outliers\n",
    "# as anything outside the IQR in which case we would have to take a different approach, but I argue it's not unreasonable to adopt this approach.\n",
    "\n",
    "df.loc[:,'area':'length of kernel groove'].boxplot(figsize=(20,5))\n",
    "plt.show()"
   ],
   "metadata": {
    "collapsed": false,
    "pycharm": {
     "name": "#%%\n"
    }
   }
  },
  {
   "cell_type": "markdown",
   "source": [
    "The asymmetry coefficient has the most notable/prominent outliers. We could look at this further to characterise mild and extreme outliers, but for now I am just considering extreme outliers, in which case we can see such outliers in the asymmetry coefficient."
   ],
   "metadata": {
    "collapsed": false,
    "pycharm": {
     "name": "#%% md\n"
    }
   }
  },
  {
   "cell_type": "code",
   "execution_count": 130,
   "outputs": [],
   "source": [],
   "metadata": {
    "collapsed": false,
    "pycharm": {
     "name": "#%%\n"
    }
   }
  },
  {
   "cell_type": "markdown",
   "source": [
    "## Data Preparation"
   ],
   "metadata": {
    "collapsed": false,
    "pycharm": {
     "name": "#%% md\n"
    }
   }
  },
  {
   "cell_type": "code",
   "execution_count": 130,
   "outputs": [],
   "source": [],
   "metadata": {
    "collapsed": false,
    "pycharm": {
     "name": "#%%\n"
    }
   }
  },
  {
   "cell_type": "markdown",
   "source": [
    "We're exploring binary classification but our dependent/target variable has 3 possibilities, namely {1,2,3}  so let's have our type 1 seed as is and classify our type 2 and 3 seed as 0. So our seeds are either type 1 {1} or not type 1 {0}."
   ],
   "metadata": {
    "collapsed": false,
    "pycharm": {
     "name": "#%% md\n"
    }
   }
  },
  {
   "cell_type": "code",
   "execution_count": 131,
   "outputs": [
    {
     "data": {
      "text/plain": "0    140\n1     70\nName: type, dtype: int64"
     },
     "execution_count": 131,
     "metadata": {},
     "output_type": "execute_result"
    }
   ],
   "source": [
    "mapper = {1:1, 2:0, 3:0}\n",
    "df['type'] = df['type'].replace(mapper)\n",
    "df['type'].value_counts()"
   ],
   "metadata": {
    "collapsed": false,
    "pycharm": {
     "name": "#%%\n"
    }
   }
  },
  {
   "cell_type": "markdown",
   "source": [
    "We can clearly see that our dataset is now skewed; the majority of our data items are classed as type 0 - this will affect our metrics later as the model will likely overfit to the class that's represented more.\n",
    "We can resample on the training set. See below for the use of SMOTE to deal with this imbalance."
   ],
   "metadata": {
    "collapsed": false,
    "pycharm": {
     "name": "#%% md\n"
    }
   }
  },
  {
   "cell_type": "markdown",
   "source": [
    "We need to deal with the outliers in the 'asymmetry coefficient' attribute, and then we need to scale all of our data."
   ],
   "metadata": {
    "collapsed": false,
    "pycharm": {
     "name": "#%% md\n"
    }
   }
  },
  {
   "cell_type": "code",
   "execution_count": 132,
   "outputs": [],
   "source": [
    "# These are all the names of the independent variables\n",
    "names_all = [c for c in df if c not in ['type']]\n",
    "\n",
    "# These are the names of the independent variables with prominent outliers\n",
    "names_outliers = ['asymmetry coefficient']\n",
    "\n",
    "# These are the names of the independent variables without prominent outliers\n",
    "names_no_outliers = list(set(names_all) - set(names_outliers))"
   ],
   "metadata": {
    "collapsed": false,
    "pycharm": {
     "name": "#%%\n"
    }
   }
  },
  {
   "cell_type": "code",
   "execution_count": 133,
   "outputs": [
    {
     "name": "stdout",
     "output_type": "stream",
     "text": [
      "['area', 'perimeter', 'compactness', 'length of kernel', 'width of kernel', 'asymmetry coefficient', 'length of kernel groove']\n",
      "['asymmetry coefficient']\n",
      "['compactness', 'area', 'length of kernel groove', 'length of kernel', 'width of kernel', 'perimeter']\n"
     ]
    }
   ],
   "source": [
    "print(names_all)\n",
    "print(names_outliers)\n",
    "print(names_no_outliers)"
   ],
   "metadata": {
    "collapsed": false,
    "pycharm": {
     "name": "#%%\n"
    }
   }
  },
  {
   "cell_type": "code",
   "execution_count": 133,
   "outputs": [],
   "source": [],
   "metadata": {
    "collapsed": false,
    "pycharm": {
     "name": "#%%\n"
    }
   }
  },
  {
   "cell_type": "code",
   "execution_count": 134,
   "outputs": [],
   "source": [
    "class AddColumnNames(BaseEstimator, TransformerMixin):\n",
    "    \"\"\"\n",
    "    A class to be used in the preprocessing pipeline to put the names of the columns/attributes back\n",
    "    as we will lose the names of the columns in the train/test split\n",
    "    We're subclassing from the BaseEstimator and the TransformerMixin to ensure we inherit everything from\n",
    "    these classes\n",
    "    \"\"\"\n",
    "    def __init__(self, columns):\n",
    "        self.columns = columns\n",
    "\n",
    "    def fit(self, X, y=None):\n",
    "        return self\n",
    "\n",
    "    def transform(self, X):\n",
    "        return pd.DataFrame(data=X, columns=self.columns)"
   ],
   "metadata": {
    "collapsed": false,
    "pycharm": {
     "name": "#%%\n"
    }
   }
  },
  {
   "cell_type": "code",
   "execution_count": 135,
   "outputs": [],
   "source": [
    "class ColumnSelector(BaseEstimator, TransformerMixin):\n",
    "    \"\"\"\n",
    "    A class to select a particular group of columns as we won't be preprocessing all the columns in\n",
    "    the same manner\n",
    "    \"\"\"\n",
    "    def __init__(self, columns):\n",
    "        self.columns = columns\n",
    "\n",
    "    def fit(self, X, y=None):\n",
    "        return self\n",
    "\n",
    "    def transform(self, X):\n",
    "        assert isinstance(X, pd.DataFrame)\n",
    "        return X[self.columns]"
   ],
   "metadata": {
    "collapsed": false,
    "pycharm": {
     "name": "#%%\n"
    }
   }
  },
  {
   "cell_type": "markdown",
   "source": [
    "Now for the preprocessing pipeline:"
   ],
   "metadata": {
    "collapsed": false,
    "pycharm": {
     "name": "#%% md\n"
    }
   }
  },
  {
   "cell_type": "code",
   "execution_count": 136,
   "outputs": [],
   "source": [
    "# In this pipeline we're using multiple transformer objects, namely the outlier_columns and no_outlier_columns to apply a different\n",
    "# pipeline to the relevant columns of our data - we could do these steps in isolation, but we want to pipeline our process.\n",
    "# We're then using the scikit learn FeatureUnion which concatenates the results of the transformers\n",
    "\n",
    "\n",
    "preprocess_pipeline = make_pipeline(\n",
    "    AddColumnNames(names_all),\n",
    "    FeatureUnion(transformer_list=[\n",
    "        (\"outlier_columns\", make_pipeline(\n",
    "            ColumnSelector(names_outliers),\n",
    "            FunctionTransformer(np.log, validate=True),\n",
    "            RobustScaler()\n",
    "        )),\n",
    "        (\"no_outlier_columns\", make_pipeline(\n",
    "            ColumnSelector(names_no_outliers),\n",
    "            StandardScaler()\n",
    "        ))\n",
    "    ])\n",
    ")"
   ],
   "metadata": {
    "collapsed": false,
    "pycharm": {
     "name": "#%%\n"
    }
   }
  },
  {
   "cell_type": "markdown",
   "source": [
    "And split the data..."
   ],
   "metadata": {
    "collapsed": false,
    "pycharm": {
     "name": "#%% md\n"
    }
   }
  },
  {
   "cell_type": "code",
   "execution_count": 137,
   "outputs": [],
   "source": [
    "y = df['type']\n",
    "X = df.drop('type', axis=1).values"
   ],
   "metadata": {
    "collapsed": false,
    "pycharm": {
     "name": "#%%\n"
    }
   }
  },
  {
   "cell_type": "code",
   "execution_count": 138,
   "outputs": [],
   "source": [
    "X_train, X_test, y_train, y_test = train_test_split(X, y, test_size=0.25, shuffle=True, random_state=42, stratify=y)"
   ],
   "metadata": {
    "collapsed": false,
    "pycharm": {
     "name": "#%%\n"
    }
   }
  },
  {
   "cell_type": "code",
   "execution_count": 139,
   "outputs": [
    {
     "name": "stdout",
     "output_type": "stream",
     "text": [
      "(157, 7) (157,)\n"
     ]
    }
   ],
   "source": [
    "print(X_train.shape, y_train.shape)"
   ],
   "metadata": {
    "collapsed": false,
    "pycharm": {
     "name": "#%%\n"
    }
   }
  },
  {
   "cell_type": "code",
   "execution_count": 140,
   "outputs": [
    {
     "name": "stdout",
     "output_type": "stream",
     "text": [
      "(210, 7) (210,)\n"
     ]
    }
   ],
   "source": [
    "# We can use the SMOTE package to over_sample our data to give us enough synthetic data to be balanced\n",
    "# SMOTE = Synthetic Minority Over Sampling Technique\n",
    "\n",
    "sm = SMOTE(random_state=42)\n",
    "X_train, y_train = sm.fit_resample(X_train, y_train)\n",
    "print(X_train.shape, y_train.shape)"
   ],
   "metadata": {
    "collapsed": false,
    "pycharm": {
     "name": "#%%\n"
    }
   }
  },
  {
   "cell_type": "markdown",
   "source": [
    "We can see from the printed shape of the arrays before and after synthetic oversampling that the SMOTE class has worked on the imbalance. Equally, only use SMOTE on the training sets, not the test sets; we only need to train our model properly, regardless of what is in the test set if the model is trained correctly it should be able to deal with any reasonable test."
   ],
   "metadata": {
    "collapsed": false,
    "pycharm": {
     "name": "#%% md\n"
    }
   }
  },
  {
   "cell_type": "markdown",
   "source": [
    "## Grid Search for Best Parameters of Classifiers - Support Vector Machine and Random Forest"
   ],
   "metadata": {
    "collapsed": false,
    "pycharm": {
     "name": "#%% md\n"
    }
   }
  },
  {
   "cell_type": "code",
   "execution_count": 140,
   "outputs": [],
   "source": [],
   "metadata": {
    "collapsed": false,
    "pycharm": {
     "name": "#%%\n"
    }
   }
  },
  {
   "cell_type": "code",
   "execution_count": 141,
   "outputs": [
    {
     "name": "stdout",
     "output_type": "stream",
     "text": [
      "[Pipeline] ........ (step 1 of 2) Processing preprocess, total=   0.0s\n",
      "[Pipeline] ............... (step 2 of 2) Processing svm, total=   0.0s\n",
      "Best CV Score:  0.9809523809523808\n",
      "Best Parameters:  {'svm__C': 10, 'svm__gamma': 1, 'svm__kernel': 'rbf'}\n"
     ]
    }
   ],
   "source": [
    "# Create the pipeline using a Support Vector Machine Classifier\n",
    "# We call on the pre-process pipeline that we created above, followed by an SVM\n",
    "\n",
    "my_pipeline = Pipeline(steps=[('preprocess', preprocess_pipeline), ('svm', svm.SVC(probability=True, random_state=42))], verbose=True)\n",
    "\n",
    "# Now a parameter grid to search for the best parameters as a dictionary\n",
    "\n",
    "param_grid = {\n",
    "    'svm__C': [0.1,1,10,100,110],\n",
    "    'svm__gamma': [1, 0.1, 0.01, 0.001],\n",
    "    'svm__kernel': ['rbf', 'linear', 'poly', 'sigmoid']\n",
    "}\n",
    "\n",
    "search = GridSearchCV(my_pipeline, param_grid, n_jobs=-1, cv=5, refit=True)\n",
    "\n",
    "search.fit(X_train, y_train)\n",
    "\n",
    "print(\"Best CV Score: \", search.best_score_)\n",
    "print(\"Best Parameters: \", search.best_params_)\n",
    "# print(\"Best Estimator: \", search.best_estimator_) - can be useful to see exactly the steps of the pipeline for the best estimator\n",
    "\n",
    "# We need to store the parameters and the best model for later use in our comparison\n",
    "svm_best_cv_score = search.best_score_\n",
    "svm_best_params = search.best_params_\n",
    "svm_best_model = search.best_estimator_"
   ],
   "metadata": {
    "collapsed": false,
    "pycharm": {
     "name": "#%%\n"
    }
   }
  },
  {
   "cell_type": "markdown",
   "source": [
    "Above we're using GridSearch which is an exhaustive search over the specified values for a given model.\n",
    "In the case of the SVM above, I've considered 3 hyper-parameters:\n",
    "1. C - Depending on the noise in our data we can go for a low C to improve regularisation or a higher C to improve fit; it's a trade-off between over-fitting and under-fitting - this value defaults to one, so I've included a value below this for noisy data and a number of values above this but the larger we get with C the longer it will take to train our model as it is effectively over-fitting the data. A low C will give a soft margin, a high C will give a hard margin.\n",
    "2. Gamma\n",
    "3. The Kernel - The choice of kernel facilitates the kernel trick whereby you can get the same result from your model as if you added multiple polynomial features without having the overhead such a high degree polynomial would carry."
   ],
   "metadata": {
    "collapsed": false,
    "pycharm": {
     "name": "#%% md\n"
    }
   }
  },
  {
   "cell_type": "code",
   "execution_count": 142,
   "outputs": [
    {
     "name": "stdout",
     "output_type": "stream",
     "text": [
      "Best CV Score:  0.9523809523809523\n",
      "Best Parameters:  {'random_forest__max_depth': 6, 'random_forest__n_estimators': 10}\n"
     ]
    }
   ],
   "source": [
    "# Now create a pipeline using a Random Forest Classifier\n",
    "# Again we call on the pre-process pipeline created above\n",
    "\n",
    "my_pipeline = Pipeline(steps=[('preprocess', preprocess_pipeline),('random_forest', RandomForestClassifier(random_state=42))])\n",
    "\n",
    "# Now a parameter grid to search for the best parameters as a dictionary\n",
    "\n",
    "param_grid = {\n",
    "    'random_forest__n_estimators': [10,20,30,40,50,60,70,80,90,100],  # The number of trees in the forest\n",
    "    'random_forest__max_depth': [2,4,6,8,10]  # The maximum depth of the tree\n",
    "}\n",
    "\n",
    "search = GridSearchCV(my_pipeline, param_grid, n_jobs=-1, cv=5, refit=True)\n",
    "\n",
    "search.fit(X_train, y_train)\n",
    "\n",
    "print(\"Best CV Score: \", search.best_score_)\n",
    "print(\"Best Parameters: \", search.best_params_)\n",
    "\n",
    "# We need to store the parameters and the best model for later use in our comparison\n",
    "\n",
    "rf_best_cv_score = search.best_score_\n",
    "rf_best_params = search.best_params_\n",
    "rf_best_model = search.best_estimator_\n"
   ],
   "metadata": {
    "collapsed": false,
    "pycharm": {
     "name": "#%%\n"
    }
   }
  },
  {
   "cell_type": "markdown",
   "source": [
    "For the Random Forest Classifier above which is effectively a large number of decision trees we're looking at 2 hyper-parameters:\n",
    "1. n_estimators: The number of trees in the forest. Logically, the more trees, the more likely the model will classify on the test set correctly as the trees protect each other from their individual errors.\n",
    "2. max_depth: As the name suggests, the number of branches/depth of each tree in our forest.\n",
    "\n",
    "By not using a max_samples or bootstrapping we're training each tree on the whole dataset - we could add these as GridSearch hyper-parameters."
   ],
   "metadata": {
    "collapsed": false,
    "pycharm": {
     "name": "#%% md\n"
    }
   }
  },
  {
   "cell_type": "markdown",
   "source": [
    "## Comparison of Classifiers using Test Set"
   ],
   "metadata": {
    "collapsed": false,
    "pycharm": {
     "name": "#%% md\n"
    }
   }
  },
  {
   "cell_type": "code",
   "execution_count": 143,
   "outputs": [],
   "source": [
    "mean_fpr = np.linspace(start=0, stop=1, num=100) # returns evenly spaced numbers over a specified interval\n",
    "# In order to plot ROC curves for the models we need to ensure that we use the same FPR under all curves"
   ],
   "metadata": {
    "collapsed": false,
    "pycharm": {
     "name": "#%%\n"
    }
   }
  },
  {
   "cell_type": "code",
   "execution_count": 144,
   "outputs": [],
   "source": [
    "def evaluate_model(X_test, y_test, model):\n",
    "    \"\"\"\n",
    "    This function evaluates the accuracy, precision, recall, F1-score, TPR and AUC of a given binary classifier\n",
    "    :param X_test: Our independent/predictor variable test data\n",
    "    :param y_test: Our dependent variable test data\n",
    "    :param model: A trained binary classifier\n",
    "    :return: Accuracy, Precision, Recall, F1 Score, TPR and AUC (Area under ROC Curve)\n",
    "    \"\"\"\n",
    "\n",
    "    _probabilities = model.predict_proba(X_test)[:,1] # probabilistic predictions for the evaluation set\n",
    "\n",
    "    _predicted_values = model.predict(X_test)\n",
    "\n",
    "    _accuracy = accuracy_score(y_test, _predicted_values)\n",
    "\n",
    "    _precision, _recall, _f1_score, _ = precision_recall_fscore_support(y_test, _predicted_values, labels=[1])\n",
    "    # The label = 1 is the precision, recall and f1 score for the model detecting type 1 seeds\n",
    "\n",
    "    _fpr, _tpr, _ = roc_curve(y_test, _probabilities)\n",
    "\n",
    "    _tpr_transformed = np.array(np.interp(mean_fpr, _fpr, _tpr)) # Compute true positive rates for the values in the mean_fpr array\n",
    "\n",
    "    _auc = auc(_fpr, _tpr)\n",
    "\n",
    "    return _accuracy, _precision[0], _recall[0], _f1_score[0], _tpr_transformed, _auc\n"
   ],
   "metadata": {
    "collapsed": false,
    "pycharm": {
     "name": "#%%\n"
    }
   }
  },
  {
   "cell_type": "code",
   "execution_count": 145,
   "outputs": [],
   "source": [
    "svm_accuracy, svm_precision, svm_recall, svm_f1_score, svm_tpr, svm_auc = evaluate_model(X_test, y_test, svm_best_model)"
   ],
   "metadata": {
    "collapsed": false,
    "pycharm": {
     "name": "#%%\n"
    }
   }
  },
  {
   "cell_type": "code",
   "execution_count": 146,
   "outputs": [],
   "source": [
    "rf_accuracy, rf_precision, rf_recall, rf_f1_score, rf_tpr, rf_auc = evaluate_model(X_test, y_test, rf_best_model)"
   ],
   "metadata": {
    "collapsed": false,
    "pycharm": {
     "name": "#%%\n"
    }
   }
  },
  {
   "cell_type": "markdown",
   "source": [
    "#### Plotting the Results"
   ],
   "metadata": {
    "collapsed": false,
    "pycharm": {
     "name": "#%% md\n"
    }
   }
  },
  {
   "cell_type": "code",
   "execution_count": 147,
   "outputs": [
    {
     "data": {
      "text/plain": "<Figure size 1080x576 with 1 Axes>",
      "image/png": "[encoded data removed]"
     },
     "metadata": {},
     "output_type": "display_data"
    }
   ],
   "source": [
    "svm_metrics = np.array([svm_accuracy, svm_precision, svm_recall, svm_f1_score])\n",
    "rf_metrics = np.array([rf_accuracy, rf_precision, rf_recall, rf_f1_score])\n",
    "index = ['Accuracy', 'Precision', 'Recall', 'F1-Score']\n",
    "df_metrics = pd.DataFrame({'SVM': svm_metrics, 'Random Forest': rf_metrics}, index=index)\n",
    "df_metrics.plot.bar(rot=0)\n",
    "plt.legend(loc=\"lower right\")\n",
    "plt.show()"
   ],
   "metadata": {
    "collapsed": false,
    "pycharm": {
     "name": "#%%\n"
    }
   }
  },
  {
   "cell_type": "markdown",
   "source": [],
   "metadata": {
    "collapsed": false,
    "pycharm": {
     "name": "#%% md\n"
    }
   }
  },
  {
   "cell_type": "markdown",
   "source": [
    "When we're measuring the accuracy of a classifier we classically use the following:\n",
    "\n",
    "1. Accuracy - The ratio or percentage of correct predictions. This isn't a great measure, especially given our dataset is skewed as we have twice as many 0 as 1's, i.e. one of our classes occurs more frequently than the other. However, we corrected that using SMOTE so the accuracy of our accuracy metric is improved.\n",
    "2. Precision - The precision is the accuracy of the positive predictions. Classically precision is considered in the context of recall.\n",
    "3. Recall - The recall is the sensitivity or true positive rate; the ratio of positive instances that are correctly detected by our model/classifier. Increasing the precision of a model decreases the recall and vice versa\n",
    "4. F1-Score - The harmonic mean of precision and recall of a model or classififer is the F1-score; as either precision or recall increase the other decreases thus a balance between the 2 gives a higher f1 score."
   ],
   "metadata": {
    "collapsed": false,
    "pycharm": {
     "name": "#%% md\n"
    }
   }
  },
  {
   "cell_type": "code",
   "execution_count": 148,
   "outputs": [],
   "source": [
    "def tpr_fpr_dataframe (y_test, y_pred):\n",
    "    \"\"\"\n",
    "    A function that takes in actual and predicted values from a model and\n",
    "    returns a dataframe comprised of the true positive, false positive, tpr and fpr\n",
    "    :param y_test: The actual values of our test set\n",
    "    :param y_pred: The predicted values of our model to compare against the validation set\n",
    "    :return: A dataframe as described above.\n",
    "    \"\"\"\n",
    "\n",
    "    scores = []\n",
    "\n",
    "    thresholds = np.linspace(0,1,101)\n",
    "\n",
    "    for t in thresholds:\n",
    "        tp = ((y_pred >= t)&(y_test == 1)).sum()\n",
    "        fp = ((y_pred >= t)&(y_test == 0)).sum()\n",
    "        fn = ((y_pred < t)&(y_test == 1)).sum()\n",
    "        tn = ((y_pred < t)&(y_test == 0)).sum()\n",
    "        scores.append((t, tp, fp, fn, tn))\n",
    "\n",
    "    # Convert to pandas dataframe for ease of use\n",
    "\n",
    "    df_scores = pd.DataFrame(scores)\n",
    "    df_scores.columns = ['threshold', 'tp', 'fp', 'fn', 'tn']\n",
    "\n",
    "    df_scores['tpr'] = df_scores.tp/(df_scores.tp + df_scores.fn)\n",
    "    df_scores['fpr'] = df_scores.fp/(df_scores.fp + df_scores.tn)\n",
    "\n",
    "    return df_scores"
   ],
   "metadata": {
    "collapsed": false,
    "pycharm": {
     "name": "#%%\n"
    }
   }
  },
  {
   "cell_type": "code",
   "execution_count": 149,
   "outputs": [
    {
     "data": {
      "text/plain": "<matplotlib.legend.Legend at 0x1684d0460>"
     },
     "execution_count": 149,
     "metadata": {},
     "output_type": "execute_result"
    },
    {
     "data": {
      "text/plain": "<Figure size 1080x576 with 1 Axes>",
      "image/png": "[encoded data removed]"
     },
     "metadata": {},
     "output_type": "display_data"
    }
   ],
   "source": [
    "# Looking at this for our Support Vector Machine\n",
    "\n",
    "y_pred = svm_best_model.predict(X_test)\n",
    "\n",
    "df_svm_tpr_fpr = tpr_fpr_dataframe(y_test, y_pred)\n",
    "\n",
    "plt.plot(df_svm_tpr_fpr.threshold, df_svm_tpr_fpr.tpr, label = \"True Positive Rate\")\n",
    "plt.plot(df_svm_tpr_fpr.threshold, df_svm_tpr_fpr.fpr, label = \"False Positive Rate\")\n",
    "plt.suptitle(\"SVM Model\")\n",
    "plt.legend()\n"
   ],
   "metadata": {
    "collapsed": false,
    "pycharm": {
     "name": "#%%\n"
    }
   }
  },
  {
   "cell_type": "code",
   "execution_count": 150,
   "outputs": [
    {
     "data": {
      "text/plain": "<matplotlib.legend.Legend at 0x1688f9520>"
     },
     "execution_count": 150,
     "metadata": {},
     "output_type": "execute_result"
    },
    {
     "data": {
      "text/plain": "<Figure size 1080x576 with 1 Axes>",
      "image/png": "[encoded data removed]"
     },
     "metadata": {},
     "output_type": "display_data"
    }
   ],
   "source": [
    "# Looking at this for our Random Forest Model\n",
    "\n",
    "y_pred = rf_best_model.predict(X_test)\n",
    "\n",
    "df_rf_tpr_fpr = tpr_fpr_dataframe(y_test, y_pred)\n",
    "\n",
    "plt.plot(df_rf_tpr_fpr.threshold, df_rf_tpr_fpr.tpr, label = \"True Positive Rate\")\n",
    "plt.plot(df_rf_tpr_fpr.threshold, df_rf_tpr_fpr.fpr, label = \"False Positive Rate\")\n",
    "plt.suptitle(\"Random Forest\")\n",
    "plt.legend()\n"
   ],
   "metadata": {
    "collapsed": false,
    "pycharm": {
     "name": "#%%\n"
    }
   }
  },
  {
   "cell_type": "markdown",
   "source": [
    "The TPR which represents the fraction of true positive amongst all positive examples initially drops to a lower value in the Random Forest model than it does in the SVM model. Ideally the TPR should stay near 1.00 or 100% all the time; this will mean that the model predicts true positives well. IN this regard, we can consider the SVM a 'better' model than the RF\n",
    "\n",
    "In the ideal model the FPR should go down quickly with a small FPR indicating that the model makes very few mistakes predicting negative examples."
   ],
   "metadata": {
    "collapsed": false,
    "pycharm": {
     "name": "#%% md\n"
    }
   }
  },
  {
   "cell_type": "code",
   "execution_count": 151,
   "outputs": [
    {
     "data": {
      "text/plain": "<matplotlib.legend.Legend at 0x1684f7ee0>"
     },
     "execution_count": 151,
     "metadata": {},
     "output_type": "execute_result"
    },
    {
     "data": {
      "text/plain": "<Figure size 1080x576 with 1 Axes>",
      "image/png": "[encoded data removed]"
     },
     "metadata": {},
     "output_type": "display_data"
    }
   ],
   "source": [
    "# Now we can combine the TPR and FPR for the SVM and RF model and plot them, along with a random model all on the same ROC Curve\n",
    "\n",
    "plt.plot(df_svm_tpr_fpr.fpr, df_svm_tpr_fpr.tpr, label = \"SVM (AUC = %0.2f)\" % svm_auc)\n",
    "plt.plot(df_rf_tpr_fpr.fpr, df_rf_tpr_fpr.tpr, label = \"Random Forest (AUC = %0.2f)\" % rf_auc)\n",
    "plt.plot([0,1], [0,1], linestyle = 'dashed', label = \"Random\")\n",
    "plt.xlabel(\"False Positive Rate\")\n",
    "plt.ylabel(\"True Positive Rate\")\n",
    "plt.suptitle(\"ROC Curve\")\n",
    "plt.legend()"
   ],
   "metadata": {
    "collapsed": false,
    "pycharm": {
     "name": "#%%\n"
    }
   }
  },
  {
   "cell_type": "markdown",
   "source": [
    "The best classifier is the SVM - we can see this by considering the true positive rate as discussed above. When comparing the 2 models in terms of precision and recall we classically look at the f1 score; again the svm has a better f1 score than it's RF counterpart."
   ],
   "metadata": {
    "collapsed": false,
    "pycharm": {
     "name": "#%% md\n"
    }
   }
  },
  {
   "cell_type": "code",
   "execution_count": 151,
   "outputs": [],
   "source": [],
   "metadata": {
    "collapsed": false,
    "pycharm": {
     "name": "#%%\n"
    }
   }
  },
  {
   "cell_type": "markdown",
   "source": [
    "## Train a 3rd Classifier"
   ],
   "metadata": {
    "collapsed": false,
    "pycharm": {
     "name": "#%% md\n"
    }
   }
  },
  {
   "cell_type": "code",
   "execution_count": 151,
   "outputs": [],
   "source": [],
   "metadata": {
    "collapsed": false,
    "pycharm": {
     "name": "#%%\n"
    }
   }
  },
  {
   "cell_type": "markdown",
   "source": [
    "We can compare the above SVM and Random Forest to other classifiers - let's use a Multi-Layer Perceptron Classifier"
   ],
   "metadata": {
    "collapsed": false,
    "pycharm": {
     "name": "#%% md\n"
    }
   }
  },
  {
   "cell_type": "code",
   "execution_count": 151,
   "outputs": [],
   "source": [],
   "metadata": {
    "collapsed": false,
    "pycharm": {
     "name": "#%%\n"
    }
   }
  },
  {
   "cell_type": "code",
   "execution_count": null,
   "outputs": [],
   "source": [
    "my_pipeline = Pipeline(steps=[('preprocess', preprocess_pipeline), ('MLPC', MLPClassifier())])\n",
    "\n",
    "# Again, we'll use a parameter grid to search for the best parameters as a dictionary\n",
    "\n",
    "param_grid = {\n",
    "    'MLPC__hidden_layer_sizes':[(5,5,5),(10,10,10),(100,100,100)],\n",
    "    'MLPC__activation' : ['identity', 'logistic', 'tanh', 'relu'],\n",
    "    'MLPC__solver' : ['lbfgs', 'sgd', 'adam'],\n",
    "    'MLPC__alpha':[0.0001, 0.001, 0.01], # L2 regularisation\n",
    "    'MLPC__max_iter':[100,150,200,250],\n",
    "    'MLPC__tol':[0.0001, 0.0001, 0.00001, 0.000001],\n",
    "    #'MLPC__stepSize': [0.01, 0.03, 0.1, 0.25, 0.5, 1]\n",
    "}\n",
    "\n",
    "search = GridSearchCV(my_pipeline, param_grid, n_jobs=-1, cv=5, refit=True)\n",
    "\n",
    "search.fit(X_train, y_train)\n",
    "\n",
    "print(\"Best CV Score: \", search.best_score_)\n",
    "print(\"Best Parameters: \", search.best_params_)\n",
    "\n",
    "# We need to store the parameters and the best model for later use in our comparison\n",
    "\n",
    "mlpc_best_cv_score = search.best_score_\n",
    "mlpc_best_params = search.best_params_\n",
    "mlpc_best_model = search.best_estimator_"
   ],
   "metadata": {
    "collapsed": false,
    "pycharm": {
     "name": "#%%\n",
     "is_executing": true
    }
   }
  },
  {
   "cell_type": "code",
   "execution_count": 155,
   "outputs": [
    {
     "name": "stdout",
     "output_type": "stream",
     "text": [
      "Best CV Score:  0.9857142857142858\n",
      "Best Parameters:  {'MLPC__activation': 'tanh', 'MLPC__alpha': 0.01, 'MLPC__hidden_layer_sizes': (5, 5, 5), 'MLPC__max_iter': 250, 'MLPC__solver': 'lbfgs', 'MLPC__tol': 0.0001}\n"
     ]
    }
   ],
   "source": [
    "print(\"Best CV Score: \", search.best_score_)\n",
    "print(\"Best Parameters: \", search.best_params_)"
   ],
   "metadata": {
    "collapsed": false,
    "pycharm": {
     "name": "#%%\n"
    }
   }
  },
  {
   "cell_type": "markdown",
   "source": [
    "When we look at the hyper-parameters for a multi-layer perceptron classifier, there are an array of options that we need to consider. Taking into account the ones that I looked at above:\n",
    "1. The activation function is the function used in the hidden layers which effectively acts as a gate in between the input feeding the current neuron and it's output going to the next layer. Scikit learn provides for 4 activation functions (well the identitiy is the input itself but f(x) = x is still a function) which I have included in the parameter grid.\n",
    "2. The solver optimises the loss function for weight optimisation.\n",
    "3. Alpha represents the L2 regularisation parameters for dealing with bias-variance tradeoff through ridge regularisation.\n",
    "4. Tolerance: When the loss the model is experiencing from one iteration to the next is negligible enough that the model can be considered convergent, the degree of difference in loss at that point is considered the tolerance. A smaller value yields more accurate results whilst larger values may lead to over-fitting.\n"
   ],
   "metadata": {
    "collapsed": false,
    "pycharm": {
     "name": "#%% md\n"
    }
   }
  },
  {
   "cell_type": "markdown",
   "source": [
    "Now we can compare this model against our other models using the previously defined evaluate_model function"
   ],
   "metadata": {
    "collapsed": false,
    "pycharm": {
     "name": "#%% md\n"
    }
   }
  },
  {
   "cell_type": "code",
   "execution_count": 157,
   "outputs": [],
   "source": [
    "mlpc_accuracy, mlpc_precision, mlpc_recall, mlpc_f1_score, mlpc_tpr, mlpc_auc = evaluate_model(X_test, y_test, mlpc_best_model)"
   ],
   "metadata": {
    "collapsed": false,
    "pycharm": {
     "name": "#%%\n"
    }
   }
  },
  {
   "cell_type": "code",
   "execution_count": 158,
   "outputs": [
    {
     "data": {
      "text/plain": "<Figure size 720x576 with 1 Axes>",
      "image/png": "[encoded data removed]"
     },
     "metadata": {},
     "output_type": "display_data"
    }
   ],
   "source": [
    "svm_metrics = np.array([svm_accuracy, svm_precision, svm_recall, svm_f1_score])\n",
    "rf_metrics = np.array([rf_accuracy, rf_precision, rf_recall, rf_f1_score])\n",
    "mlpc_metrics = np.array([mlpc_accuracy, mlpc_precision, mlpc_recall, mlpc_f1_score])\n",
    "index = ['Accuracy', 'Precision', 'Recall', 'F1-Score']\n",
    "df_metrics = pd.DataFrame({'SVM': svm_metrics, 'Random Forest': rf_metrics, 'MLPClassifier': mlpc_metrics}, index=index)\n",
    "df_metrics.plot.bar(title=\"Comparison of Classification Metrics\", rot=0, figsize=(10,8))\n",
    "plt.legend(loc=\"lower right\")\n",
    "# plt.savefig('classification_metrics_no_smote.png')\n",
    "plt.show()"
   ],
   "metadata": {
    "collapsed": false,
    "pycharm": {
     "name": "#%%\n"
    }
   }
  },
  {
   "cell_type": "markdown",
   "source": [],
   "metadata": {
    "collapsed": false,
    "pycharm": {
     "name": "#%% md\n"
    }
   }
  },
  {
   "cell_type": "code",
   "execution_count": 164,
   "outputs": [
    {
     "data": {
      "text/plain": "<Figure size 1080x576 with 1 Axes>",
      "image/png": "[encoded data removed]"
     },
     "metadata": {},
     "output_type": "display_data"
    }
   ],
   "source": [
    "plt.plot([0, 1], [0, 1], linestyle='--', lw=2, color='r', label='Chance', alpha=0.8)\n",
    "plt.plot(mean_fpr, svm_tpr, lw=2, color='blue', label='SVM (AUC = %0.2f)' % svm_auc, alpha=0.8)\n",
    "plt.plot(mean_fpr, rf_tpr, lw=2, color='orange', label='Random Forest (AUC = %0.2f)' % rf_auc, alpha=0.8)\n",
    "plt.plot(mean_fpr, mlpc_tpr, lw=2, color='green', label='MLPClassifier (AUC = %0.2f)' % mlpc_auc, alpha=0.8)\n",
    "plt.plot(0, 1, marker=\"*\", color = 'red')\n",
    "plt.xlabel('False Positive Rate')\n",
    "plt.ylabel('True Positive Rate')\n",
    "plt.title('ROC curves for multiple classifiers')\n",
    "plt.legend(loc=\"lower right\")\n",
    "plt.show()"
   ],
   "metadata": {
    "collapsed": false,
    "pycharm": {
     "name": "#%%\n"
    }
   }
  },
  {
   "cell_type": "markdown",
   "source": [
    "What I found is that by balancing the test data, i.e. removing the skew with SMOTE, it improved the metrics of the classifiers, specifically the Random Forest classifier. You can look at the comparison of the classification metrics without balancing the skewed data in the saved attachment (classification_metrics_no_smote.png)"
   ],
   "metadata": {
    "collapsed": false,
    "pycharm": {
     "name": "#%% md\n"
    }
   }
  },
  {
   "cell_type": "markdown",
   "source": [
    "As we can see from the classification metrics and ROC curve our MLPClassifier is the best of the 3 models. In fact it's linear representation on the ROC curve is akin to that of a perfect model.\n",
    "Whilst the 3 models are all clearly significantly better than a random or chance model as per the ROC curve, at the earlier thresholds the MLPClassifier is the better model, however it's largely inconsequential.\n",
    "When evaluating our models using the ROC curve we want the model to be as close to the ideal spot (top left of the graph indicated by a small red star) and as far from the random baseline as possible - this is the AUC - the ideal model forms a 1x1 square so the AUC is 1 whereas for the dotted random chance line the AUC would be 50%"
   ],
   "metadata": {
    "collapsed": false,
    "pycharm": {
     "name": "#%% md\n"
    }
   }
  },
  {
   "cell_type": "code",
   "execution_count": null,
   "outputs": [],
   "source": [],
   "metadata": {
    "collapsed": false,
    "pycharm": {
     "name": "#%%\n"
    }
   }
  },
  {
   "cell_type": "code",
   "execution_count": null,
   "outputs": [],
   "source": [],
   "metadata": {
    "collapsed": false,
    "pycharm": {
     "name": "#%%\n"
    }
   }
  },
  {
   "cell_type": "code",
   "execution_count": null,
   "outputs": [],
   "source": [],
   "metadata": {
    "collapsed": false,
    "pycharm": {
     "name": "#%%\n"
    }
   }
  },
  {
   "cell_type": "code",
   "execution_count": null,
   "outputs": [],
   "source": [],
   "metadata": {
    "collapsed": false,
    "pycharm": {
     "name": "#%%\n"
    }
   }
  },
  {
   "cell_type": "code",
   "execution_count": null,
   "outputs": [],
   "source": [],
   "metadata": {
    "collapsed": false,
    "pycharm": {
     "name": "#%%\n"
    }
   }
  },
  {
   "cell_type": "code",
   "execution_count": null,
   "outputs": [],
   "source": [],
   "metadata": {
    "collapsed": false,
    "pycharm": {
     "name": "#%%\n"
    }
   }
  },
  {
   "cell_type": "code",
   "execution_count": null,
   "outputs": [],
   "source": [],
   "metadata": {
    "collapsed": false,
    "pycharm": {
     "name": "#%%\n"
    }
   }
  },
  {
   "cell_type": "code",
   "execution_count": null,
   "outputs": [],
   "source": [],
   "metadata": {
    "collapsed": false,
    "pycharm": {
     "name": "#%%\n"
    }
   }
  },
  {
   "cell_type": "code",
   "execution_count": null,
   "outputs": [],
   "source": [],
   "metadata": {
    "collapsed": false,
    "pycharm": {
     "name": "#%%\n"
    }
   }
  },
  {
   "cell_type": "code",
   "execution_count": null,
   "outputs": [],
   "source": [],
   "metadata": {
    "collapsed": false,
    "pycharm": {
     "name": "#%%\n"
    }
   }
  },
  {
   "cell_type": "code",
   "execution_count": null,
   "outputs": [],
   "source": [],
   "metadata": {
    "collapsed": false,
    "pycharm": {
     "name": "#%%\n"
    }
   }
  },
  {
   "cell_type": "code",
   "execution_count": null,
   "outputs": [],
   "source": [],
   "metadata": {
    "collapsed": false,
    "pycharm": {
     "name": "#%%\n"
    }
   }
  },
  {
   "cell_type": "code",
   "execution_count": null,
   "outputs": [],
   "source": [],
   "metadata": {
    "collapsed": false,
    "pycharm": {
     "name": "#%%\n"
    }
   }
  }
 ],
 "metadata": {
  "kernelspec": {
   "display_name": "Python 3",
   "language": "python",
   "name": "python3"
  },
  "language_info": {
   "codemirror_mode": {
    "name": "ipython",
    "version": 2
   },
   "file_extension": ".py",
   "mimetype": "text/x-python",
   "name": "python",
   "nbconvert_exporter": "python",
   "pygments_lexer": "ipython2",
   "version": "2.7.6"
  }
 },
 "nbformat": 4,
 "nbformat_minor": 0
}